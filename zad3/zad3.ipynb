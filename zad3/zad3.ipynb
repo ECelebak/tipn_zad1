{
 "cells": [
  {
   "cell_type": "markdown",
   "metadata": {},
   "source": [
    "# Liczenie średniej z przedmiotów\n",
    "To jest **notebook** gdzie liczymy średnią przedmiotów w tym _semestrze_ "
   ]
  },
  {
   "cell_type": "code",
   "execution_count": 9,
   "metadata": {},
   "outputs": [],
   "source": [
    "psychologia=5.0\n",
    "metodologia = 4.0\n",
    "technologie = 5.0\n",
    "biologiczne = 4.5\n",
    "przeglad = 4.0\n",
    "anatomia = 3.5\n",
    "wf = 5\n",
    "angielski = 4.5\n",
    "komunikacja=4.0"
   ]
  },
  {
   "cell_type": "code",
   "execution_count": 11,
   "metadata": {},
   "outputs": [],
   "source": [
    "suma = psychologia + metodologia + technologie + biologiczne + przeglad + anatomia + wf + angielski +komunikacja "
   ]
  },
  {
   "cell_type": "code",
   "execution_count": 12,
   "metadata": {},
   "outputs": [],
   "source": [
    "srednia = suma / 9"
   ]
  },
  {
   "cell_type": "code",
   "execution_count": 13,
   "metadata": {},
   "outputs": [
    {
     "name": "stdout",
     "output_type": "stream",
     "text": [
      "4.388888888888889\n"
     ]
    }
   ],
   "source": [
    "print (srednia)"
   ]
  },
  {
   "cell_type": "code",
   "execution_count": 16,
   "metadata": {},
   "outputs": [
    {
     "name": "stdout",
     "output_type": "stream",
     "text": [
      "Moja średnia w pierwszym semestrze studiów to 4.388888888888889\n"
     ]
    }
   ],
   "source": [
    "print (\"Moja średnia w pierwszym semestrze studiów to\", str(srednia))"
   ]
  },
  {
   "cell_type": "code",
   "execution_count": null,
   "metadata": {},
   "outputs": [],
   "source": []
  }
 ],
 "metadata": {
  "kernelspec": {
   "display_name": "Python 3",
   "language": "python",
   "name": "python3"
  },
  "language_info": {
   "codemirror_mode": {
    "name": "ipython",
    "version": 3
   },
   "file_extension": ".py",
   "mimetype": "text/x-python",
   "name": "python",
   "nbconvert_exporter": "python",
   "pygments_lexer": "ipython3",
   "version": "3.7.0"
  }
 },
 "nbformat": 4,
 "nbformat_minor": 2
}
