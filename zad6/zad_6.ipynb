{
 "cells": [
  {
   "cell_type": "code",
   "execution_count": 5,
   "metadata": {},
   "outputs": [],
   "source": [
    "a = \"Wolę spotkać się ze znajomymi, niż samemu czytać książkę.\"\n",
    "b = \"Często mam potrzebę wyjść na spacer lub aktywnie spędzić czas.\"\n",
    "c = \"Uwielbiam rozmawiać, nie jest ważne o czym.\"\n",
    "d = \"Jestem życzliwym człowiekiem.\"\n",
    "e = \"Uwielbiam nowe wyzwania.\"\n",
    "punkty = []\n",
    "\n",
    "def test(o):\n",
    "\n",
    "    l_pyt = [a, b, c, d, e]\n",
    "    \n",
    "def z_pyt(a):\n",
    "        \n",
    "    print(a)\n",
    "    inf = input(\"Skala jest 5 punktowa, od 1 które oznacza nie zgadzam się, do 5 całkowicie się zgadzam. Twoja odp: \")\n",
    "    inf = int(inf)\n",
    "    if inf>5 or inf<1:\n",
    "        print(\"Toja odpowiedź jest poza skalą, wpisz jeszcze raz liczby\")\n",
    "    else:\n",
    "        return inf"
   ]
  },
  {
   "cell_type": "code",
   "execution_count": 9,
   "metadata": {},
   "outputs": [
    {
     "name": "stdout",
     "output_type": "stream",
     "text": [
      "Wolę spotkać się ze znajomymi, niż samemu czytać książkę.\n"
     ]
    },
    {
     "name": "stdin",
     "output_type": "stream",
     "text": [
      "Skala jest 5 punktowa, od 1 które oznacza nie zgadzam się, do 5 całkowicie się zgadzam. Twoja odp:  3\n"
     ]
    },
    {
     "name": "stdout",
     "output_type": "stream",
     "text": [
      "Często mam potrzebę wyjść na spacer lub aktywnie spędzić czas.\n"
     ]
    },
    {
     "name": "stdin",
     "output_type": "stream",
     "text": [
      "Skala jest 5 punktowa, od 1 które oznacza nie zgadzam się, do 5 całkowicie się zgadzam. Twoja odp:  3\n"
     ]
    },
    {
     "name": "stdout",
     "output_type": "stream",
     "text": [
      "Uwielbiam rozmawiać, nie jest ważne o czym.\n"
     ]
    },
    {
     "name": "stdin",
     "output_type": "stream",
     "text": [
      "Skala jest 5 punktowa, od 1 które oznacza nie zgadzam się, do 5 całkowicie się zgadzam. Twoja odp:  3\n"
     ]
    },
    {
     "name": "stdout",
     "output_type": "stream",
     "text": [
      "Jestem życzliwym człowiekiem.\n"
     ]
    },
    {
     "name": "stdin",
     "output_type": "stream",
     "text": [
      "Skala jest 5 punktowa, od 1 które oznacza nie zgadzam się, do 5 całkowicie się zgadzam. Twoja odp:  3\n"
     ]
    },
    {
     "name": "stdout",
     "output_type": "stream",
     "text": [
      "Uwielbiam nowe wyzwania.\n"
     ]
    },
    {
     "name": "stdin",
     "output_type": "stream",
     "text": [
      "Skala jest 5 punktowa, od 1 które oznacza nie zgadzam się, do 5 całkowicie się zgadzam. Twoja odp:  3\n"
     ]
    },
    {
     "name": "stdout",
     "output_type": "stream",
     "text": [
      "Twój wynik to 21 . Cechuje cię impulsywność i optymizm.\n",
      "Dziękuję, miłego dnia!\n"
     ]
    }
   ],
   "source": [
    "pkt = z_pyt(a)\n",
    "punkty.append(pkt)\n",
    "\n",
    "pkt = z_pyt(b)\n",
    "punkty.append(pkt)\n",
    "\n",
    "pkt = z_pyt(c)\n",
    "punkty.append(pkt)\n",
    "\n",
    "pkt = z_pyt(d)\n",
    "punkty.append(pkt)\n",
    "\n",
    "pkt = z_pyt(e)\n",
    "punkty.append(pkt)\n",
    "\n",
    "wynik = sum(punkty)\n",
    "wynik = int(wynik)\n",
    "\n",
    "if wynik > 5 and wynik < 10:\n",
    "    print(\"Twój wynik to\", wynik, \".\", \"Jesteś osobą o charakterze melancholika.\")\n",
    "elif wynik == 5:\n",
    "    print(\"Twój wynik to\", wynik, \".\", \"Czasami czujesz lęk i apatie.\")\n",
    "elif wynik >= 10 and wynik < 15:\n",
    "    print(\"Twój wynik to\", wynik, \".\", \"Jesteś osobą spokojną i powściągliwą.\")\n",
    "elif wynik >= 15 and wynik < 20:\n",
    "    print(\"Twój wynik to\", wynik, \".\", \"Jesteś refleksyjny i powściągliwy, gdy wymaga tego sytuacja nie masz problemu z kontaktem z ludzmi.\")\n",
    "elif wynik >=20 and wynik < 25:\n",
    "    print(\"Twój wynik to\", wynik, \".\", \"Cechuje cię impulsywność i optymizm.\")\n",
    "elif wynik == 25:\n",
    "    print(\"Twój wynik to\", wynik, \".\", \"Jesteś osobą o charakterze sangwinika.\")\n",
    "    \n",
    "if wynik > 0:\n",
    "    print(\"Dziękuję, miłego dnia!\")"
   ]
  },
  {
   "cell_type": "markdown",
   "metadata": {},
   "source": []
  }
 ],
 "metadata": {
  "kernelspec": {
   "display_name": "Python 3",
   "language": "python",
   "name": "python3"
  },
  "language_info": {
   "codemirror_mode": {
    "name": "ipython",
    "version": 3
   },
   "file_extension": ".py",
   "mimetype": "text/x-python",
   "name": "python",
   "nbconvert_exporter": "python",
   "pygments_lexer": "ipython3",
   "version": "3.7.0"
  }
 },
 "nbformat": 4,
 "nbformat_minor": 2
}
