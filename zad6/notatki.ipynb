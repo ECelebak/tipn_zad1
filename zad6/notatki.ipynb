{
 "cells": [
  {
   "cell_type": "code",
   "execution_count": 1,
   "metadata": {},
   "outputs": [],
   "source": [
    "#słowo kluczowe, def\n",
    "##jakaś nazwa, intuicyjna najlepiej opisująca funkcję\n",
    "###w środku jakiś argument"
   ]
  },
  {
   "cell_type": "markdown",
   "metadata": {},
   "source": [
    "def pierw_kw(x):\n",
    "    wynik = x ** (1/2)\n",
    "    print('Pierwiastek drugiegi stopnia z', x, 'to', wynik)"
   ]
  },
  {
   "cell_type": "code",
   "execution_count": 13,
   "metadata": {},
   "outputs": [
    {
     "name": "stdout",
     "output_type": "stream",
     "text": [
      "Pierwiastek drugiegi stopnia z 4 to 2.0\n"
     ]
    }
   ],
   "source": [
    "pierw_kw(4)"
   ]
  },
  {
   "cell_type": "markdown",
   "metadata": {},
   "source": [
    "#bezwzględnie musisz to wiedzieć\n",
    "\n"
   ]
  },
  {
   "cell_type": "code",
   "execution_count": 15,
   "metadata": {},
   "outputs": [],
   "source": [
    "def pierw_kw(x): \n",
    "    wynik = x ** (1/2)\n",
    "    return wynik"
   ]
  },
  {
   "cell_type": "code",
   "execution_count": 16,
   "metadata": {},
   "outputs": [
    {
     "name": "stdout",
     "output_type": "stream",
     "text": [
      "1.7102947382241185\n"
     ]
    }
   ],
   "source": [
    "a = pierw_kw(2)\n",
    "b = pierw_kw(3)\n",
    "print(pierw_kw(a+b + 123))"
   ]
  },
  {
   "cell_type": "code",
   "execution_count": 17,
   "metadata": {},
   "outputs": [
    {
     "data": {
      "text/plain": [
       "False"
      ]
     },
     "execution_count": 17,
     "metadata": {},
     "output_type": "execute_result"
    }
   ],
   "source": [
    "pierw_kw(3) > 1.5"
   ]
  },
  {
   "cell_type": "code",
   "execution_count": 18,
   "metadata": {},
   "outputs": [],
   "source": [
    "def pierwiastek(x, stopien): \n",
    "    wynik = x ** (1/ stopien) #ważna kolejność!!!!\n",
    "    return wynik"
   ]
  },
  {
   "cell_type": "code",
   "execution_count": 19,
   "metadata": {},
   "outputs": [
    {
     "data": {
      "text/plain": [
       "2.0"
      ]
     },
     "execution_count": 19,
     "metadata": {},
     "output_type": "execute_result"
    }
   ],
   "source": [
    "pierwiastek(4,2)"
   ]
  },
  {
   "cell_type": "code",
   "execution_count": 20,
   "metadata": {},
   "outputs": [
    {
     "data": {
      "text/plain": [
       "76831715148.00916"
      ]
     },
     "execution_count": 20,
     "metadata": {},
     "output_type": "execute_result"
    }
   ],
   "source": [
    "pierwiastek(453546254443664444444444444444443, 3)"
   ]
  },
  {
   "cell_type": "code",
   "execution_count": null,
   "metadata": {},
   "outputs": [],
   "source": [
    "#argumenty przez nazwę, jest taka możliwość"
   ]
  },
  {
   "cell_type": "code",
   "execution_count": 25,
   "metadata": {},
   "outputs": [],
   "source": [
    "def pierwiastek (x, stopien = 2):\n",
    "    wynik = x ** (1/ stopien)\n",
    "    return wynik\n"
   ]
  },
  {
   "cell_type": "code",
   "execution_count": 26,
   "metadata": {},
   "outputs": [
    {
     "data": {
      "text/plain": [
       "2.0"
      ]
     },
     "execution_count": 26,
     "metadata": {},
     "output_type": "execute_result"
    }
   ],
   "source": [
    "pierwiastek (4,2)"
   ]
  },
  {
   "cell_type": "code",
   "execution_count": 27,
   "metadata": {},
   "outputs": [
    {
     "data": {
      "text/plain": [
       "2.0"
      ]
     },
     "execution_count": 27,
     "metadata": {},
     "output_type": "execute_result"
    }
   ],
   "source": [
    "pierwiastek(4)"
   ]
  },
  {
   "cell_type": "code",
   "execution_count": 34,
   "metadata": {},
   "outputs": [
    {
     "ename": "SyntaxError",
     "evalue": "invalid syntax (<ipython-input-34-bbf059fbbebe>, line 4)",
     "output_type": "error",
     "traceback": [
      "\u001b[1;36m  File \u001b[1;32m\"<ipython-input-34-bbf059fbbebe>\"\u001b[1;36m, line \u001b[1;32m4\u001b[0m\n\u001b[1;33m    print (\"pierw.\", stopien, \"stopnia z\", x \"to\" wynik)\u001b[0m\n\u001b[1;37m                                                ^\u001b[0m\n\u001b[1;31mSyntaxError\u001b[0m\u001b[1;31m:\u001b[0m invalid syntax\n"
     ]
    }
   ],
   "source": [
    "def pierwiastek (x, stopien = 2, wydruk = False):\n",
    "    wynik = x ** (1/ stopien)\n",
    "    if wydruk == True:\n",
    "        print (\"pierw.\", stopien, \"stopnia z\", x \"to\", wynik)\n",
    "        else:\n",
    "    return wynik\n"
   ]
  },
  {
   "cell_type": "code",
   "execution_count": null,
   "metadata": {},
   "outputs": [],
   "source": [
    "#Napiszz funkcję obliczającą silnię. Funkcja ma przyjmować dwa argumenty x i wydruk. x to liczba z\n",
    "której ma obliczyć silnię. wydruk określa czy wynik ma być zwrócony return "
   ]
  }
 ],
 "metadata": {
  "kernelspec": {
   "display_name": "Python 3",
   "language": "python",
   "name": "python3"
  },
  "language_info": {
   "codemirror_mode": {
    "name": "ipython",
    "version": 3
   },
   "file_extension": ".py",
   "mimetype": "text/x-python",
   "name": "python",
   "nbconvert_exporter": "python",
   "pygments_lexer": "ipython3",
   "version": "3.7.0"
  }
 },
 "nbformat": 4,
 "nbformat_minor": 2
}
