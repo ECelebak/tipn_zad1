{
 "cells": [
  {
   "cell_type": "code",
   "execution_count": 1,
   "metadata": {},
   "outputs": [],
   "source": [
    "a = \"Wolę spotkać się ze znajomymi, niż samemu czytać książkę.\"\n",
    "b = \"Często mam potrzebę wyjść na spacer lub aktywnie spędzić czas.\"\n",
    "c = \"Uwielbiam rozmawiać, nie jest ważne o czym.\"\n",
    "d = \"Jestem życzliwym człowiekiem.\"\n",
    "e = \"Uwielbiam nowe wyzwania.\"\n",
    "pkt = []\n",
    "\n",
    "def test(o):\n",
    "    test = [a,b,c,d,e]\n",
    "    "
   ]
  },
  {
   "cell_type": "code",
   "execution_count": 2,
   "metadata": {},
   "outputs": [],
   "source": [
    "def pytanie(a):\n",
    "    \n",
    "    print(a)\n",
    "    inf = input (\" skala jest 5 punktowa, od 1 które oznacza nie zgadzam się, do 5 całkowicie się zgadzam\")\n",
    "    inf = int(inf)\n",
    "    \n",
    "    if  inf > 5 or inf < 1 :\n",
    "        print (\"Toja odpowiedź jest poza skalą, wpisz jeszcze raz liczby\")\n",
    "    else:\n",
    "        return inf"
   ]
  },
  {
   "cell_type": "code",
   "execution_count": 7,
   "metadata": {},
   "outputs": [
    {
     "ename": "SyntaxError",
     "evalue": "invalid syntax (<ipython-input-7-d102de2e211d>, line 21)",
     "output_type": "error",
     "traceback": [
      "\u001b[1;36m  File \u001b[1;32m\"<ipython-input-7-d102de2e211d>\"\u001b[1;36m, line \u001b[1;32m21\u001b[0m\n\u001b[1;33m    elif wynik >= 10 and wynik < 15 :\u001b[0m\n\u001b[1;37m       ^\u001b[0m\n\u001b[1;31mSyntaxError\u001b[0m\u001b[1;31m:\u001b[0m invalid syntax\n"
     ]
    }
   ],
   "source": [
    "zadaj = pytanie(a)\n",
    "pkt.append(zadaj)\n",
    "\n",
    "zadaj = pytanie(b)\n",
    "pkt.append(zadaj)\n",
    "\n",
    "zadaj = pytanie(c)\n",
    "pkt.append(zadaj)\n",
    "\n",
    "zadaj = pytanie(d)\n",
    "pkt.append(zadaj)\n",
    "\n",
    "zadaj = pytanie(e)\n",
    "pkt.append(zadaj)\n",
    "\n",
    "wynik = sum(zadaj)\n",
    "wynik = int(wynik)\n",
    "\n",
    "if wynik > 5 and wynik < 10 :\n",
    "    print (\"Twój wynik to\", wynik, \".\" \"Jesteś osobą o charakterze melancholika \"\n",
    "elif wynik >= 10 and wynik < 15 :\n",
    "    print (\" Twój wynik to\", wynik, \".\" \"Jesteś...\")\n",
    "elif wynik >= 15 and wynik < 20:\n",
    "    print (\" Twój wynik to\", wynik, \".\" \"Jesteś...\")\n",
    "\n",
    "elif wynik >=20 and wynik < 25:\n",
    "    print (\" Twój wynik to\", wynik, \".\" \"Jesteś...\")\n",
    "\n",
    "           \n",
    "if wynik > 0:\n",
    "    pkt.pop(0)\n",
    "    pkt.pop(0)\n",
    "    pkt.pop(0)\n",
    "    pkt.pop(0)\n",
    "    pkt.pop(0)\n",
    "else:\n",
    "    print(\"Dziękuję, miłego dnia!\")"
   ]
  },
  {
   "cell_type": "code",
   "execution_count": null,
   "metadata": {},
   "outputs": [],
   "source": []
  }
 ],
 "metadata": {
  "kernelspec": {
   "display_name": "Python 3",
   "language": "python",
   "name": "python3"
  },
  "language_info": {
   "codemirror_mode": {
    "name": "ipython",
    "version": 3
   },
   "file_extension": ".py",
   "mimetype": "text/x-python",
   "name": "python",
   "nbconvert_exporter": "python",
   "pygments_lexer": "ipython3",
   "version": "3.7.0"
  }
 },
 "nbformat": 4,
 "nbformat_minor": 2
}
