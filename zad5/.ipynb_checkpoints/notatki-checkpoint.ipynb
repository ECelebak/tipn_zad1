{
 "cells": [
  {
   "cell_type": "markdown",
   "metadata": {},
   "source": [
    "Zadanie: wyświetl  wszystkie potęgi 2 od $2^0$"
   ]
  },
  {
   "cell_type": "code",
   "execution_count": 8,
   "metadata": {},
   "outputs": [
    {
     "name": "stdout",
     "output_type": "stream",
     "text": [
      "2 do 0 = 1\n",
      "2 do 1 = 2\n",
      "2 do 2 = 4\n",
      "2 do 3 = 8\n",
      "2 do 4 = 16\n",
      "2 do 5 = 32\n"
     ]
    }
   ],
   "source": [
    "licznik = 0 \n",
    "while licznik <= 5:\n",
    "    print ('2 do', licznik, '=' , 2** licznik)\n",
    "    licznik = licznik + 1"
   ]
  },
  {
   "cell_type": "code",
   "execution_count": null,
   "metadata": {},
   "outputs": [],
   "source": [
    "licznik = 0 \n",
    "while licznik <= 5:\n",
    "    print ('2 do', licznik, '=' , 2** licznik)\n",
    "    licznik =+ 1 # to samo co wyżej tylko +="
   ]
  },
  {
   "cell_type": "code",
   "execution_count": null,
   "metadata": {},
   "outputs": [],
   "source": [
    "licznik "
   ]
  },
  {
   "cell_type": "code",
   "execution_count": null,
   "metadata": {},
   "outputs": [],
   "source": [
    "6 "
   ]
  },
  {
   "cell_type": "markdown",
   "metadata": {},
   "source": [
    "Zadanie:"
   ]
  },
  {
   "cell_type": "code",
   "execution_count": 16,
   "metadata": {},
   "outputs": [
    {
     "name": "stdout",
     "output_type": "stream",
     "text": [
      "0\n",
      "2\n",
      "3\n",
      "4\n",
      "6\n",
      "8\n",
      "9\n",
      "10\n",
      "12\n",
      "14\n",
      "15\n",
      "16\n",
      "18\n",
      "20\n",
      "21\n",
      "22\n",
      "24\n",
      "26\n",
      "27\n",
      "28\n",
      "30\n",
      "32\n",
      "33\n",
      "34\n",
      "36\n",
      "38\n",
      "39\n",
      "40\n",
      "42\n",
      "44\n",
      "45\n",
      "46\n",
      "48\n",
      "50\n",
      "51\n",
      "52\n",
      "54\n",
      "56\n",
      "57\n",
      "58\n",
      "60\n",
      "62\n",
      "63\n",
      "64\n",
      "66\n",
      "68\n",
      "69\n",
      "70\n",
      "72\n",
      "74\n",
      "75\n",
      "76\n",
      "78\n",
      "80\n",
      "81\n",
      "82\n",
      "84\n",
      "86\n",
      "87\n",
      "88\n",
      "90\n",
      "92\n",
      "93\n",
      "94\n",
      "96\n",
      "98\n",
      "99\n",
      "100\n"
     ]
    }
   ],
   "source": [
    "liczba = 0\n",
    "\n",
    "while liczba <= 100:\n",
    "    if liczba % 2 == 0 or liczba % 3 == 0:\n",
    "        print(liczba)\n",
    "    liczba += 1"
   ]
  },
  {
   "cell_type": "code",
   "execution_count": 1,
   "metadata": {},
   "outputs": [
    {
     "name": "stdin",
     "output_type": "stream",
     "text": [
      "Podaj hasło: marakuja\n"
     ]
    },
    {
     "name": "stdout",
     "output_type": "stream",
     "text": [
      "Śmiechom nie było końca\n"
     ]
    }
   ],
   "source": [
    "dobre_haslo = \"marakuja\"\n",
    "tajna_wiadomosc = 'Śmiechom nie było końca'\n",
    "\n",
    "haslo = input (\"Podaj hasło:\")\n",
    "\n",
    "if haslo == dobre_haslo:\n",
    "    print(tajna_wiadomosc)\n",
    "\n",
    "    \n",
    "else:\n",
    "    print ('Error śmieciu')"
   ]
  },
  {
   "cell_type": "code",
   "execution_count": 2,
   "metadata": {},
   "outputs": [
    {
     "name": "stdin",
     "output_type": "stream",
     "text": [
      "Podaj hasło jbkjbh\n"
     ]
    },
    {
     "name": "stdout",
     "output_type": "stream",
     "text": [
      "Error śmieciu\n"
     ]
    },
    {
     "name": "stdin",
     "output_type": "stream",
     "text": [
      "Podaj hasło: marakuja\n"
     ]
    },
    {
     "name": "stdout",
     "output_type": "stream",
     "text": [
      "Śmiechom nie było końca\n"
     ]
    }
   ],
   "source": [
    "dobre_haslo = \"marakuja\"\n",
    "tajna_wiadomość = 'Śmiechom nie było końca'\n",
    "\n",
    "haslo = input (\"Podaj hasło\")\n",
    "\n",
    "while haslo != dobre_haslo:\n",
    "    print('Error śmieciu')\n",
    "    haslo = input(\"Podaj hasło:\")\n",
    "print(tajna_wiadomosc)"
   ]
  },
  {
   "cell_type": "code",
   "execution_count": 5,
   "metadata": {},
   "outputs": [],
   "source": [
    "imiona = [ \"Ania\", \"Basia\", \"Kasia\", \"Zosia\", \"Czesia\"]"
   ]
  },
  {
   "cell_type": "code",
   "execution_count": 5,
   "metadata": {},
   "outputs": [
    {
     "data": {
      "text/plain": [
       "'Czesia'"
      ]
     },
     "execution_count": 5,
     "metadata": {},
     "output_type": "execute_result"
    }
   ],
   "source": [
    "imiona [-1 ]"
   ]
  },
  {
   "cell_type": "code",
   "execution_count": 8,
   "metadata": {},
   "outputs": [
    {
     "name": "stdout",
     "output_type": "stream",
     "text": [
      "Ania Nowak\n",
      "Basia Nowak\n",
      "Kasia Nowak\n",
      "Zosia Nowak\n",
      "Czesia Nowak\n"
     ]
    }
   ],
   "source": [
    "for ixd in imiona:\n",
    "    print(ixd + \" Nowak\") # zwyczajowo ixd to \"i\""
   ]
  },
  {
   "cell_type": "code",
   "execution_count": 9,
   "metadata": {},
   "outputs": [],
   "source": [
    "#ważne nowe podejście które mówi że tworzymy nową listę\n"
   ]
  },
  {
   "cell_type": "code",
   "execution_count": 8,
   "metadata": {},
   "outputs": [],
   "source": [
    "imiona_nazwiska = []\n",
    "\n",
    "for imie in imiona:\n",
    "    imiona_nazwiska.append(imie + ' Nowak')\n"
   ]
  },
  {
   "cell_type": "code",
   "execution_count": 9,
   "metadata": {},
   "outputs": [
    {
     "data": {
      "text/plain": [
       "['Ania Nowak', 'Basia Nowak', 'Kasia Nowak', 'Zosia Nowak', 'Czesia Nowak']"
      ]
     },
     "execution_count": 9,
     "metadata": {},
     "output_type": "execute_result"
    }
   ],
   "source": [
    "imiona_nazwiska "
   ]
  },
  {
   "cell_type": "code",
   "execution_count": null,
   "metadata": {},
   "outputs": [],
   "source": []
  }
 ],
 "metadata": {
  "kernelspec": {
   "display_name": "Python 3",
   "language": "python",
   "name": "python3"
  },
  "language_info": {
   "codemirror_mode": {
    "name": "ipython",
    "version": 3
   },
   "file_extension": ".py",
   "mimetype": "text/x-python",
   "name": "python",
   "nbconvert_exporter": "python",
   "pygments_lexer": "ipython3",
   "version": "3.7.0"
  }
 },
 "nbformat": 4,
 "nbformat_minor": 2
}
